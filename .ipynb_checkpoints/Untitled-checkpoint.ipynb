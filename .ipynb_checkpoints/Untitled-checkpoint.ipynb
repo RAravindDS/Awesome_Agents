{
 "cells": [
  {
   "cell_type": "code",
   "execution_count": null,
   "id": "60bca941-c925-4212-bf37-9b21e223270c",
   "metadata": {},
   "outputs": [],
   "source": [
    "## building agents \n",
    "\n",
    "\n",
    "class Agents: \n",
    "    def __init__(self, system:str = \"\"): \n",
    "        self.system = system\n",
    "        self.messages = []\n",
    "\n",
    "    def __call__(self, message): \n",
    "        self.messages.append({\"role\": \"user\", \"content\": message})\n",
    "        result = self.execute()\n",
    "        self.messages.append({\"role\": \"assistant\", \"content\": result})\n",
    "\n",
    "        return result\n",
    "\n",
    "\n",
    "    def \n",
    "        "
   ]
  }
 ],
 "metadata": {
  "kernelspec": {
   "display_name": "Python 3 (ipykernel)",
   "language": "python",
   "name": "python3"
  },
  "language_info": {
   "codemirror_mode": {
    "name": "ipython",
    "version": 3
   },
   "file_extension": ".py",
   "mimetype": "text/x-python",
   "name": "python",
   "nbconvert_exporter": "python",
   "pygments_lexer": "ipython3",
   "version": "3.10.13"
  }
 },
 "nbformat": 4,
 "nbformat_minor": 5
}
